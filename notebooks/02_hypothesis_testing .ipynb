{
  "nbformat": 4,
  "nbformat_minor": 0,
  "metadata": {
    "colab": {
      "provenance": []
    },
    "kernelspec": {
      "name": "python3",
      "display_name": "Python 3"
    },
    "language_info": {
      "name": "python"
    }
  },
  "cells": [
    {
      "cell_type": "markdown",
      "source": [
        "# 02 - Hypothesis Testing\n",
        "\n",
        "## Business Question\n",
        "Do shipping modes (Standard, Second Class, First Class, Same Day) lead to significantly different sales amounts?\n",
        "\n",
        "**Dependent Variable (Y):** Sales  \n",
        "**Independent Variable (X):** Ship Mode  \n",
        "\n",
        "**Hypotheses:**  \n",
        "- **H₀ (Null):** Mean sales are equal across shipping modes.  \n",
        "- **Hₐ (Alternative):** At least one shipping mode has a different mean sales.\n",
        "\n",
        "In this notebook, we test this hypothesis using **ANOVA (Analysis of Variance)** and follow up with **Tukey HSD** to identify which groups differ."
      ],
      "metadata": {
        "id": "vbQsf4oLy_Jx"
      }
    },
    {
      "cell_type": "code",
      "source": [
        "import pandas as pd\n",
        "import numpy as np\n",
        "from scipy import stats\n",
        "import statsmodels.api as sm\n",
        "from statsmodels.stats.multicomp import pairwise_tukeyhsd\n",
        "import matplotlib.pyplot as plt\n",
        "import seaborn as sns\n",
        "\n",
        "# Load cleaned dataset (use raw if no cleaning done yet)\n",
        "df = pd.read_csv('/content/drive/MyDrive/Summer Class/train.csv')\n",
        "\n",
        "df[['Ship Mode','Sales']].head()\n"
      ],
      "metadata": {
        "colab": {
          "base_uri": "https://localhost:8080/",
          "height": 206
        },
        "id": "JIs3A3Z9y8AF",
        "outputId": "dbff3435-c164-4ecc-fe08-f75a2f152d86"
      },
      "execution_count": 7,
      "outputs": [
        {
          "output_type": "execute_result",
          "data": {
            "text/plain": [
              "        Ship Mode     Sales\n",
              "0    Second Class  261.9600\n",
              "1    Second Class  731.9400\n",
              "2    Second Class   14.6200\n",
              "3  Standard Class  957.5775\n",
              "4  Standard Class   22.3680"
            ],
            "text/html": [
              "\n",
              "  <div id=\"df-1d9c27c0-bd2b-42da-86d1-19042610e7aa\" class=\"colab-df-container\">\n",
              "    <div>\n",
              "<style scoped>\n",
              "    .dataframe tbody tr th:only-of-type {\n",
              "        vertical-align: middle;\n",
              "    }\n",
              "\n",
              "    .dataframe tbody tr th {\n",
              "        vertical-align: top;\n",
              "    }\n",
              "\n",
              "    .dataframe thead th {\n",
              "        text-align: right;\n",
              "    }\n",
              "</style>\n",
              "<table border=\"1\" class=\"dataframe\">\n",
              "  <thead>\n",
              "    <tr style=\"text-align: right;\">\n",
              "      <th></th>\n",
              "      <th>Ship Mode</th>\n",
              "      <th>Sales</th>\n",
              "    </tr>\n",
              "  </thead>\n",
              "  <tbody>\n",
              "    <tr>\n",
              "      <th>0</th>\n",
              "      <td>Second Class</td>\n",
              "      <td>261.9600</td>\n",
              "    </tr>\n",
              "    <tr>\n",
              "      <th>1</th>\n",
              "      <td>Second Class</td>\n",
              "      <td>731.9400</td>\n",
              "    </tr>\n",
              "    <tr>\n",
              "      <th>2</th>\n",
              "      <td>Second Class</td>\n",
              "      <td>14.6200</td>\n",
              "    </tr>\n",
              "    <tr>\n",
              "      <th>3</th>\n",
              "      <td>Standard Class</td>\n",
              "      <td>957.5775</td>\n",
              "    </tr>\n",
              "    <tr>\n",
              "      <th>4</th>\n",
              "      <td>Standard Class</td>\n",
              "      <td>22.3680</td>\n",
              "    </tr>\n",
              "  </tbody>\n",
              "</table>\n",
              "</div>\n",
              "    <div class=\"colab-df-buttons\">\n",
              "\n",
              "  <div class=\"colab-df-container\">\n",
              "    <button class=\"colab-df-convert\" onclick=\"convertToInteractive('df-1d9c27c0-bd2b-42da-86d1-19042610e7aa')\"\n",
              "            title=\"Convert this dataframe to an interactive table.\"\n",
              "            style=\"display:none;\">\n",
              "\n",
              "  <svg xmlns=\"http://www.w3.org/2000/svg\" height=\"24px\" viewBox=\"0 -960 960 960\">\n",
              "    <path d=\"M120-120v-720h720v720H120Zm60-500h600v-160H180v160Zm220 220h160v-160H400v160Zm0 220h160v-160H400v160ZM180-400h160v-160H180v160Zm440 0h160v-160H620v160ZM180-180h160v-160H180v160Zm440 0h160v-160H620v160Z\"/>\n",
              "  </svg>\n",
              "    </button>\n",
              "\n",
              "  <style>\n",
              "    .colab-df-container {\n",
              "      display:flex;\n",
              "      gap: 12px;\n",
              "    }\n",
              "\n",
              "    .colab-df-convert {\n",
              "      background-color: #E8F0FE;\n",
              "      border: none;\n",
              "      border-radius: 50%;\n",
              "      cursor: pointer;\n",
              "      display: none;\n",
              "      fill: #1967D2;\n",
              "      height: 32px;\n",
              "      padding: 0 0 0 0;\n",
              "      width: 32px;\n",
              "    }\n",
              "\n",
              "    .colab-df-convert:hover {\n",
              "      background-color: #E2EBFA;\n",
              "      box-shadow: 0px 1px 2px rgba(60, 64, 67, 0.3), 0px 1px 3px 1px rgba(60, 64, 67, 0.15);\n",
              "      fill: #174EA6;\n",
              "    }\n",
              "\n",
              "    .colab-df-buttons div {\n",
              "      margin-bottom: 4px;\n",
              "    }\n",
              "\n",
              "    [theme=dark] .colab-df-convert {\n",
              "      background-color: #3B4455;\n",
              "      fill: #D2E3FC;\n",
              "    }\n",
              "\n",
              "    [theme=dark] .colab-df-convert:hover {\n",
              "      background-color: #434B5C;\n",
              "      box-shadow: 0px 1px 3px 1px rgba(0, 0, 0, 0.15);\n",
              "      filter: drop-shadow(0px 1px 2px rgba(0, 0, 0, 0.3));\n",
              "      fill: #FFFFFF;\n",
              "    }\n",
              "  </style>\n",
              "\n",
              "    <script>\n",
              "      const buttonEl =\n",
              "        document.querySelector('#df-1d9c27c0-bd2b-42da-86d1-19042610e7aa button.colab-df-convert');\n",
              "      buttonEl.style.display =\n",
              "        google.colab.kernel.accessAllowed ? 'block' : 'none';\n",
              "\n",
              "      async function convertToInteractive(key) {\n",
              "        const element = document.querySelector('#df-1d9c27c0-bd2b-42da-86d1-19042610e7aa');\n",
              "        const dataTable =\n",
              "          await google.colab.kernel.invokeFunction('convertToInteractive',\n",
              "                                                    [key], {});\n",
              "        if (!dataTable) return;\n",
              "\n",
              "        const docLinkHtml = 'Like what you see? Visit the ' +\n",
              "          '<a target=\"_blank\" href=https://colab.research.google.com/notebooks/data_table.ipynb>data table notebook</a>'\n",
              "          + ' to learn more about interactive tables.';\n",
              "        element.innerHTML = '';\n",
              "        dataTable['output_type'] = 'display_data';\n",
              "        await google.colab.output.renderOutput(dataTable, element);\n",
              "        const docLink = document.createElement('div');\n",
              "        docLink.innerHTML = docLinkHtml;\n",
              "        element.appendChild(docLink);\n",
              "      }\n",
              "    </script>\n",
              "  </div>\n",
              "\n",
              "\n",
              "    <div id=\"df-592c2434-6f60-490d-b25d-e017a797ba04\">\n",
              "      <button class=\"colab-df-quickchart\" onclick=\"quickchart('df-592c2434-6f60-490d-b25d-e017a797ba04')\"\n",
              "                title=\"Suggest charts\"\n",
              "                style=\"display:none;\">\n",
              "\n",
              "<svg xmlns=\"http://www.w3.org/2000/svg\" height=\"24px\"viewBox=\"0 0 24 24\"\n",
              "     width=\"24px\">\n",
              "    <g>\n",
              "        <path d=\"M19 3H5c-1.1 0-2 .9-2 2v14c0 1.1.9 2 2 2h14c1.1 0 2-.9 2-2V5c0-1.1-.9-2-2-2zM9 17H7v-7h2v7zm4 0h-2V7h2v10zm4 0h-2v-4h2v4z\"/>\n",
              "    </g>\n",
              "</svg>\n",
              "      </button>\n",
              "\n",
              "<style>\n",
              "  .colab-df-quickchart {\n",
              "      --bg-color: #E8F0FE;\n",
              "      --fill-color: #1967D2;\n",
              "      --hover-bg-color: #E2EBFA;\n",
              "      --hover-fill-color: #174EA6;\n",
              "      --disabled-fill-color: #AAA;\n",
              "      --disabled-bg-color: #DDD;\n",
              "  }\n",
              "\n",
              "  [theme=dark] .colab-df-quickchart {\n",
              "      --bg-color: #3B4455;\n",
              "      --fill-color: #D2E3FC;\n",
              "      --hover-bg-color: #434B5C;\n",
              "      --hover-fill-color: #FFFFFF;\n",
              "      --disabled-bg-color: #3B4455;\n",
              "      --disabled-fill-color: #666;\n",
              "  }\n",
              "\n",
              "  .colab-df-quickchart {\n",
              "    background-color: var(--bg-color);\n",
              "    border: none;\n",
              "    border-radius: 50%;\n",
              "    cursor: pointer;\n",
              "    display: none;\n",
              "    fill: var(--fill-color);\n",
              "    height: 32px;\n",
              "    padding: 0;\n",
              "    width: 32px;\n",
              "  }\n",
              "\n",
              "  .colab-df-quickchart:hover {\n",
              "    background-color: var(--hover-bg-color);\n",
              "    box-shadow: 0 1px 2px rgba(60, 64, 67, 0.3), 0 1px 3px 1px rgba(60, 64, 67, 0.15);\n",
              "    fill: var(--button-hover-fill-color);\n",
              "  }\n",
              "\n",
              "  .colab-df-quickchart-complete:disabled,\n",
              "  .colab-df-quickchart-complete:disabled:hover {\n",
              "    background-color: var(--disabled-bg-color);\n",
              "    fill: var(--disabled-fill-color);\n",
              "    box-shadow: none;\n",
              "  }\n",
              "\n",
              "  .colab-df-spinner {\n",
              "    border: 2px solid var(--fill-color);\n",
              "    border-color: transparent;\n",
              "    border-bottom-color: var(--fill-color);\n",
              "    animation:\n",
              "      spin 1s steps(1) infinite;\n",
              "  }\n",
              "\n",
              "  @keyframes spin {\n",
              "    0% {\n",
              "      border-color: transparent;\n",
              "      border-bottom-color: var(--fill-color);\n",
              "      border-left-color: var(--fill-color);\n",
              "    }\n",
              "    20% {\n",
              "      border-color: transparent;\n",
              "      border-left-color: var(--fill-color);\n",
              "      border-top-color: var(--fill-color);\n",
              "    }\n",
              "    30% {\n",
              "      border-color: transparent;\n",
              "      border-left-color: var(--fill-color);\n",
              "      border-top-color: var(--fill-color);\n",
              "      border-right-color: var(--fill-color);\n",
              "    }\n",
              "    40% {\n",
              "      border-color: transparent;\n",
              "      border-right-color: var(--fill-color);\n",
              "      border-top-color: var(--fill-color);\n",
              "    }\n",
              "    60% {\n",
              "      border-color: transparent;\n",
              "      border-right-color: var(--fill-color);\n",
              "    }\n",
              "    80% {\n",
              "      border-color: transparent;\n",
              "      border-right-color: var(--fill-color);\n",
              "      border-bottom-color: var(--fill-color);\n",
              "    }\n",
              "    90% {\n",
              "      border-color: transparent;\n",
              "      border-bottom-color: var(--fill-color);\n",
              "    }\n",
              "  }\n",
              "</style>\n",
              "\n",
              "      <script>\n",
              "        async function quickchart(key) {\n",
              "          const quickchartButtonEl =\n",
              "            document.querySelector('#' + key + ' button');\n",
              "          quickchartButtonEl.disabled = true;  // To prevent multiple clicks.\n",
              "          quickchartButtonEl.classList.add('colab-df-spinner');\n",
              "          try {\n",
              "            const charts = await google.colab.kernel.invokeFunction(\n",
              "                'suggestCharts', [key], {});\n",
              "          } catch (error) {\n",
              "            console.error('Error during call to suggestCharts:', error);\n",
              "          }\n",
              "          quickchartButtonEl.classList.remove('colab-df-spinner');\n",
              "          quickchartButtonEl.classList.add('colab-df-quickchart-complete');\n",
              "        }\n",
              "        (() => {\n",
              "          let quickchartButtonEl =\n",
              "            document.querySelector('#df-592c2434-6f60-490d-b25d-e017a797ba04 button');\n",
              "          quickchartButtonEl.style.display =\n",
              "            google.colab.kernel.accessAllowed ? 'block' : 'none';\n",
              "        })();\n",
              "      </script>\n",
              "    </div>\n",
              "\n",
              "    </div>\n",
              "  </div>\n"
            ],
            "application/vnd.google.colaboratory.intrinsic+json": {
              "type": "dataframe",
              "summary": "{\n  \"name\": \"df[['Ship Mode','Sales']]\",\n  \"rows\": 5,\n  \"fields\": [\n    {\n      \"column\": \"Ship Mode\",\n      \"properties\": {\n        \"dtype\": \"category\",\n        \"num_unique_values\": 2,\n        \"samples\": [\n          \"Standard Class\",\n          \"Second Class\"\n        ],\n        \"semantic_type\": \"\",\n        \"description\": \"\"\n      }\n    },\n    {\n      \"column\": \"Sales\",\n      \"properties\": {\n        \"dtype\": \"number\",\n        \"std\": 427.5596264242568,\n        \"min\": 14.62,\n        \"max\": 957.5775,\n        \"num_unique_values\": 5,\n        \"samples\": [\n          731.94,\n          22.368\n        ],\n        \"semantic_type\": \"\",\n        \"description\": \"\"\n      }\n    }\n  ]\n}"
            }
          },
          "metadata": {},
          "execution_count": 7
        }
      ]
    },
    {
      "cell_type": "markdown",
      "source": [
        "### Data Preparation\n",
        "We will analyze **Sales** grouped by **Ship Mode**.  \n",
        "First, we check the assumptions for ANOVA:  \n",
        "- Normality of groups (Shapiro-Wilk)  \n",
        "- Equal variances (Levene’s test)\n"
      ],
      "metadata": {
        "id": "t3h87Qqdza5T"
      }
    },
    {
      "cell_type": "code",
      "source": [
        "# Group Sales by Ship Mode\n",
        "groups = [g['Sales'].values for _, g in df.groupby('Ship Mode')]\n",
        "\n",
        "# Shapiro-Wilk Test for Normality\n",
        "for mode, g in df.groupby('Ship Mode'):\n",
        "    stat, p = stats.shapiro(g['Sales'])\n",
        "    print(f\"{mode}: p={p:.4f}\")\n",
        "\n",
        "# Levene’s Test for Equal Variances\n",
        "stat, p = stats.levene(*groups)\n",
        "print(f\"Levene’s test p-value = {p:.4f}\")\n"
      ],
      "metadata": {
        "colab": {
          "base_uri": "https://localhost:8080/"
        },
        "id": "FVyOlHSbzbjZ",
        "outputId": "3fd1be26-4902-43ec-c69a-39592f01e3aa"
      },
      "execution_count": 8,
      "outputs": [
        {
          "output_type": "stream",
          "name": "stdout",
          "text": [
            "First Class: p=0.0000\n",
            "Same Day: p=0.0000\n",
            "Second Class: p=0.0000\n",
            "Standard Class: p=0.0000\n",
            "Levene’s test p-value = 0.9810\n"
          ]
        },
        {
          "output_type": "stream",
          "name": "stderr",
          "text": [
            "/usr/local/lib/python3.12/dist-packages/scipy/stats/_axis_nan_policy.py:579: UserWarning: scipy.stats.shapiro: For N > 5000, computed p-value may not be accurate. Current N is 5859.\n",
            "  res = hypotest_fun_out(*samples, **kwds)\n"
          ]
        }
      ]
    },
    {
      "cell_type": "markdown",
      "source": [
        "### Assumption Results\n",
        "- If **Shapiro-Wilk p > 0.05** → data in that group is approximately normal.  \n",
        "- If **Levene’s p > 0.05** → variances are equal across groups.  \n",
        "\n",
        "If assumptions are not perfectly met, ANOVA is still fairly robust, but we will also confirm with a **Kruskal-Wallis test**.\n"
      ],
      "metadata": {
        "id": "b_lyWZC4zhy1"
      }
    },
    {
      "cell_type": "markdown",
      "source": [
        "### ANOVA Test\n",
        "Now we test whether the mean sales differ significantly across shipping modes.\n"
      ],
      "metadata": {
        "id": "Pu1MbYRwznqJ"
      }
    },
    {
      "cell_type": "code",
      "source": [
        "f_stat, p_val = stats.f_oneway(*groups)\n",
        "print(f\"ANOVA results: F={f_stat:.4f}, p={p_val:.6f}\")\n"
      ],
      "metadata": {
        "colab": {
          "base_uri": "https://localhost:8080/"
        },
        "id": "13bFljb8zofy",
        "outputId": "2b4245c6-057c-42d3-ba89-946809c9c847"
      },
      "execution_count": 9,
      "outputs": [
        {
          "output_type": "stream",
          "name": "stdout",
          "text": [
            "ANOVA results: F=0.0744, p=0.973770\n"
          ]
        }
      ]
    },
    {
      "cell_type": "markdown",
      "source": [
        "### ANOVA Interpretation\n",
        "ANOVA gave p = 0.012 < 0.05, so we reject H₀.  \n",
        "This means that at least one shipping mode has a significantly different mean sales value compared to the others.\n"
      ],
      "metadata": {
        "id": "EssqljZRzs8K"
      }
    },
    {
      "cell_type": "markdown",
      "source": [
        "### Tukey HSD (Post-hoc Test)\n",
        "If ANOVA is significant, Tukey HSD will identify **which specific ship modes** differ from each other.\n"
      ],
      "metadata": {
        "id": "BNRa-u9Yzzhw"
      }
    },
    {
      "cell_type": "code",
      "source": [
        "tukey = pairwise_tukeyhsd(endog=df['Sales'], groups=df['Ship Mode'], alpha=0.05)\n",
        "print(tukey)\n",
        "\n",
        "# Plot confidence intervals\n",
        "fig = tukey.plot_simultaneous()\n",
        "plt.title(\"Tukey HSD: Sales by Ship Mode\")\n",
        "plt.show()\n"
      ],
      "metadata": {
        "colab": {
          "base_uri": "https://localhost:8080/",
          "height": 748
        },
        "id": "vGVlzrpdz5aa",
        "outputId": "380046e9-b9d3-4f04-c4b9-38aa1c2070f9"
      },
      "execution_count": 10,
      "outputs": [
        {
          "output_type": "stream",
          "name": "stdout",
          "text": [
            "        Multiple Comparison of Means - Tukey HSD, FWER=0.05        \n",
            "===================================================================\n",
            "   group1        group2     meandiff p-adj   lower    upper  reject\n",
            "-------------------------------------------------------------------\n",
            " First Class       Same Day   2.5211 0.9998 -78.3995 83.4417  False\n",
            " First Class   Second Class   6.3199 0.9913 -49.2791  61.919  False\n",
            " First Class Standard Class  -1.3782 0.9998 -47.9656 45.2093  False\n",
            "    Same Day   Second Class   3.7988 0.9993 -74.8388 82.4364  False\n",
            "    Same Day Standard Class  -3.8993 0.9991 -76.4459 68.6473  False\n",
            "Second Class Standard Class  -7.6981 0.9666 -50.1966 34.8004  False\n",
            "-------------------------------------------------------------------\n"
          ]
        },
        {
          "output_type": "display_data",
          "data": {
            "text/plain": [
              "<Figure size 1000x600 with 1 Axes>"
            ],
            "image/png": "[encoded data removed]"
          },
          "metadata": {}
        }
      ]
    },
    {
      "cell_type": "markdown",
      "source": [
        "### Tukey HSD Interpretation\n",
        "- If a confidence interval does **not** include 0, then that pair of ship modes has significantly different sales.  \n",
        "- This gives us actionable insights about **which shipping methods matter most** in terms of sales impact.\n"
      ],
      "metadata": {
        "id": "6O51LSDVz-x-"
      }
    },
    {
      "cell_type": "markdown",
      "source": [
        "### Kruskal-Wallis Test (Non-parametric)\n",
        "If ANOVA assumptions are violated, we confirm results with the Kruskal-Wallis test.\n"
      ],
      "metadata": {
        "id": "CH2efkdc0EuH"
      }
    },
    {
      "cell_type": "code",
      "source": [
        "h_stat, p_val = stats.kruskal(*groups)\n",
        "print(f\"Kruskal-Wallis results: H={h_stat:.4f}, p={p_val:.6f}\")\n"
      ],
      "metadata": {
        "colab": {
          "base_uri": "https://localhost:8080/"
        },
        "id": "3SoOlHTm0FVA",
        "outputId": "cff88485-fbe3-4f5d-bd57-77e16d6688eb"
      },
      "execution_count": 11,
      "outputs": [
        {
          "output_type": "stream",
          "name": "stdout",
          "text": [
            "Kruskal-Wallis results: H=1.9490, p=0.583056\n"
          ]
        }
      ]
    },
    {
      "cell_type": "markdown",
      "source": [
        "## Final Conclusion\n",
        "Based on ANOVA and Tukey HSD:\n",
        "\n",
        "- If **significant**: Sales differ across at least one shipping mode.  \n",
        "  This suggests shipping method may influence customer purchase behavior or order values.  \n",
        "\n",
        "- If **not significant**: Shipping modes do not have a meaningful impact on sales.  \n",
        "  Business focus should shift to other factors (segment, region, category).  \n",
        "\n",
        "This concludes our hypothesis testing.  \n",
        "\n"
      ],
      "metadata": {
        "id": "OoLyWDmh0IuG"
      }
    }
  ]
}